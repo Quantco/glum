{
 "cells": [
  {
   "cell_type": "markdown",
   "metadata": {},
   "source": [
    "# GLM Tutorial: Poisson, Gamma, and Tweedie with French Motor Third-Party Liability Claims\n",
    "\n",
    "\n",
    "**Intro**\n",
    "\n",
    "This tutorial shows why and how to use Poisson, Gamma, and Tweedie GLMs on an insurance claims dataset using `glum`. It was inspired by, and closely mirrors, two other GLM tutorials that used this dataset:\n",
    "\n",
    "1. An sklearn-learn tutorial, [Tweedie regression on insurance claims](https://scikit-learn.org/stable/auto_examples/linear_model/plot_tweedie_regression_insurance_claims.html#pure-premium-modeling-via-a-product-model-vs-single-tweedieregressor), which was created for this (partially merged) [sklearn PR](https://github.com/scikit-learn/scikit-learn/pull/9405) that we based glum on\n",
    "2. An R tutorial, [Case Study: French Motor Third-Party Liability Claims](https://papers.ssrn.com/sol3/papers.cfm?abstract_id=3164764) with [R code](https://github.com/JSchelldorfer/ActuarialDataScience/tree/master/1%20-%20French%20Motor%20Third-Party%20Liability%20Claims).\n",
    "\n",
    "\n",
    "**Background**\n",
    "\n",
    "Insurance claims are requests made by a policy holder to an insurance company for compensation in the event of a covered loss. When modeling these claims, the goal is often to estimate, per policy, the total claim amount per exposure unit. (i.e. number of claims $\\times$ average amount per claim per year). This amount is also referred to as the pure premium.\n",
    "\n",
    "Two approaches for modeling this value are:\n",
    "\n",
    "1. Modeling the total claim amount per exposure directly\n",
    "2. Modeling number of claims and claim amount separately with a frequency and a severity model\n",
    "\n",
    "In this tutorial, we demonstrate both approaches. We start with the second option as it shows how to use two different families/distributions (Poisson and Gamma) within a GLM on a single dataset. We then show the first approach using a single poison-gamma Tweedie regressor (i.e. a Tweedie with power $p \\in (1,2)$)\n",
    "\n",
    "\n",
    "\n",
    "## Table of Contents\n",
    "* [1. Load and Prepare Datasets from Openml.org](#1.-Load-and-Prepare-Datasets-from-Openml.org)\n",
    "* [2. Frequency GLM - Poisson Distribution](#2.-Frequency-GLM---Poisson-Distribution)\n",
    "* [3. Severity GLM - Gamma Distribution](#3.-Severity-GLM---Gamma-distribution)\n",
    "* [4. Combined GLM - Tweedie Distribution](#4.-Combined-GLM---Tweedie-Distribution)"
   ]
  },
  {
   "cell_type": "code",
   "execution_count": 1,
   "metadata": {},
   "outputs": [],
   "source": [
    "import matplotlib.pyplot as plt\n",
    "import numpy as np\n",
    "import pandas as pd\n",
    "import scipy.optimize as optimize\n",
    "import scipy.stats\n",
    "from dask_ml.preprocessing import Categorizer\n",
    "from sklearn.metrics import mean_absolute_error\n",
    "from sklearn.model_selection import ShuffleSplit\n",
    "from glum import GeneralizedLinearRegressor\n",
    "from glum import TweedieDistribution\n",
    "\n",
    "from load_transform import load_transform"
   ]
  },
  {
   "cell_type": "markdown",
   "metadata": {},
   "source": [
    "## 1. Load and prepare datasets from Openml<a class=\"anchor\"></a>\n",
    "[back to table of contents](#Table-of-Contents)\n",
    "\n",
    "First, we load in our [dataset from openML](\"https://www.openml.org/d/41214\") and apply several transformations. In the interest of simplicity, we do not include the data loading and preparation code in this notebook. Below is a list of further resources if you wish to explore further:\n",
    "\n",
    "1. If you want to run the same code yourself, please see the helper functions [here](https://github.com/Quantco/glum/tree/open-sourcing/docs/tutorials/glm_french_motor_tutorial).\n",
    "2. For a detailed description of the data, see [here](http://dutangc.free.fr/pub/RRepos/web/CASdatasets-index.html).\n",
    "3. For an excellent exploratory data analysis, see the case study paper linked above.\n",
    "\n",
    "Some important notes about the dataset post-transformation:\n",
    "\n",
    "- Total claim amounts are aggregated per policy\n",
    "- For ClaimAmountCut, the claim amounts (pre-aggregation) were cut at 100,000 per single claim. We choose to use this amount rather than the raw ClaimAmount. (100,000 is the 0.9984 quantile but claims > 100,000 account for 25% of the overall claim amount)\n",
    "- We aggregate the total claim amounts per policy\n",
    "* ClaimNb is the total number of claims per policy with claim amount greater zero\n",
    "* VehPower, VehAge, and DrivAge are clipped and/or digitized into bins so that they can be used as categoricals later on"
   ]
  },
  {
   "cell_type": "code",
   "execution_count": 2,
   "metadata": {},
   "outputs": [
    {
     "data": {
      "text/html": [
       "<div>\n",
       "<style scoped>\n",
       "    .dataframe tbody tr th:only-of-type {\n",
       "        vertical-align: middle;\n",
       "    }\n",
       "\n",
       "    .dataframe tbody tr th {\n",
       "        vertical-align: top;\n",
       "    }\n",
       "\n",
       "    .dataframe thead th {\n",
       "        text-align: right;\n",
       "    }\n",
       "</style>\n",
       "<table border=\"1\" class=\"dataframe\">\n",
       "  <thead>\n",
       "    <tr style=\"text-align: right;\">\n",
       "      <th></th>\n",
       "      <th>ClaimNb</th>\n",
       "      <th>Exposure</th>\n",
       "      <th>Area</th>\n",
       "      <th>VehPower</th>\n",
       "      <th>VehAge</th>\n",
       "      <th>DrivAge</th>\n",
       "      <th>BonusMalus</th>\n",
       "      <th>VehBrand</th>\n",
       "      <th>VehGas</th>\n",
       "      <th>Density</th>\n",
       "      <th>Region</th>\n",
       "      <th>ClaimAmount</th>\n",
       "      <th>ClaimAmountCut</th>\n",
       "    </tr>\n",
       "    <tr>\n",
       "      <th>IDpol</th>\n",
       "      <th></th>\n",
       "      <th></th>\n",
       "      <th></th>\n",
       "      <th></th>\n",
       "      <th></th>\n",
       "      <th></th>\n",
       "      <th></th>\n",
       "      <th></th>\n",
       "      <th></th>\n",
       "      <th></th>\n",
       "      <th></th>\n",
       "      <th></th>\n",
       "      <th></th>\n",
       "    </tr>\n",
       "  </thead>\n",
       "  <tbody>\n",
       "    <tr>\n",
       "      <th>1</th>\n",
       "      <td>0</td>\n",
       "      <td>0.10000</td>\n",
       "      <td>D</td>\n",
       "      <td>5</td>\n",
       "      <td>0</td>\n",
       "      <td>5</td>\n",
       "      <td>50</td>\n",
       "      <td>B12</td>\n",
       "      <td>Regular</td>\n",
       "      <td>1217</td>\n",
       "      <td>R82</td>\n",
       "      <td>0.0</td>\n",
       "      <td>0.0</td>\n",
       "    </tr>\n",
       "    <tr>\n",
       "      <th>3</th>\n",
       "      <td>0</td>\n",
       "      <td>0.77000</td>\n",
       "      <td>D</td>\n",
       "      <td>5</td>\n",
       "      <td>0</td>\n",
       "      <td>5</td>\n",
       "      <td>50</td>\n",
       "      <td>B12</td>\n",
       "      <td>Regular</td>\n",
       "      <td>1217</td>\n",
       "      <td>R82</td>\n",
       "      <td>0.0</td>\n",
       "      <td>0.0</td>\n",
       "    </tr>\n",
       "    <tr>\n",
       "      <th>5</th>\n",
       "      <td>0</td>\n",
       "      <td>0.75000</td>\n",
       "      <td>B</td>\n",
       "      <td>6</td>\n",
       "      <td>1</td>\n",
       "      <td>5</td>\n",
       "      <td>50</td>\n",
       "      <td>B12</td>\n",
       "      <td>Diesel</td>\n",
       "      <td>54</td>\n",
       "      <td>R22</td>\n",
       "      <td>0.0</td>\n",
       "      <td>0.0</td>\n",
       "    </tr>\n",
       "    <tr>\n",
       "      <th>10</th>\n",
       "      <td>0</td>\n",
       "      <td>0.09000</td>\n",
       "      <td>B</td>\n",
       "      <td>7</td>\n",
       "      <td>0</td>\n",
       "      <td>4</td>\n",
       "      <td>50</td>\n",
       "      <td>B12</td>\n",
       "      <td>Diesel</td>\n",
       "      <td>76</td>\n",
       "      <td>R72</td>\n",
       "      <td>0.0</td>\n",
       "      <td>0.0</td>\n",
       "    </tr>\n",
       "    <tr>\n",
       "      <th>11</th>\n",
       "      <td>0</td>\n",
       "      <td>0.84000</td>\n",
       "      <td>B</td>\n",
       "      <td>7</td>\n",
       "      <td>0</td>\n",
       "      <td>4</td>\n",
       "      <td>50</td>\n",
       "      <td>B12</td>\n",
       "      <td>Diesel</td>\n",
       "      <td>76</td>\n",
       "      <td>R72</td>\n",
       "      <td>0.0</td>\n",
       "      <td>0.0</td>\n",
       "    </tr>\n",
       "    <tr>\n",
       "      <th>...</th>\n",
       "      <td>...</td>\n",
       "      <td>...</td>\n",
       "      <td>...</td>\n",
       "      <td>...</td>\n",
       "      <td>...</td>\n",
       "      <td>...</td>\n",
       "      <td>...</td>\n",
       "      <td>...</td>\n",
       "      <td>...</td>\n",
       "      <td>...</td>\n",
       "      <td>...</td>\n",
       "      <td>...</td>\n",
       "      <td>...</td>\n",
       "    </tr>\n",
       "    <tr>\n",
       "      <th>6114326</th>\n",
       "      <td>0</td>\n",
       "      <td>0.00274</td>\n",
       "      <td>E</td>\n",
       "      <td>4</td>\n",
       "      <td>0</td>\n",
       "      <td>5</td>\n",
       "      <td>50</td>\n",
       "      <td>B12</td>\n",
       "      <td>Regular</td>\n",
       "      <td>3317</td>\n",
       "      <td>R93</td>\n",
       "      <td>0.0</td>\n",
       "      <td>0.0</td>\n",
       "    </tr>\n",
       "    <tr>\n",
       "      <th>6114327</th>\n",
       "      <td>0</td>\n",
       "      <td>0.00274</td>\n",
       "      <td>E</td>\n",
       "      <td>4</td>\n",
       "      <td>0</td>\n",
       "      <td>4</td>\n",
       "      <td>95</td>\n",
       "      <td>B12</td>\n",
       "      <td>Regular</td>\n",
       "      <td>9850</td>\n",
       "      <td>R11</td>\n",
       "      <td>0.0</td>\n",
       "      <td>0.0</td>\n",
       "    </tr>\n",
       "    <tr>\n",
       "      <th>6114328</th>\n",
       "      <td>0</td>\n",
       "      <td>0.00274</td>\n",
       "      <td>D</td>\n",
       "      <td>6</td>\n",
       "      <td>1</td>\n",
       "      <td>4</td>\n",
       "      <td>50</td>\n",
       "      <td>B12</td>\n",
       "      <td>Diesel</td>\n",
       "      <td>1323</td>\n",
       "      <td>R82</td>\n",
       "      <td>0.0</td>\n",
       "      <td>0.0</td>\n",
       "    </tr>\n",
       "    <tr>\n",
       "      <th>6114329</th>\n",
       "      <td>0</td>\n",
       "      <td>0.00274</td>\n",
       "      <td>B</td>\n",
       "      <td>4</td>\n",
       "      <td>0</td>\n",
       "      <td>5</td>\n",
       "      <td>50</td>\n",
       "      <td>B12</td>\n",
       "      <td>Regular</td>\n",
       "      <td>95</td>\n",
       "      <td>R26</td>\n",
       "      <td>0.0</td>\n",
       "      <td>0.0</td>\n",
       "    </tr>\n",
       "    <tr>\n",
       "      <th>6114330</th>\n",
       "      <td>0</td>\n",
       "      <td>0.00274</td>\n",
       "      <td>B</td>\n",
       "      <td>7</td>\n",
       "      <td>1</td>\n",
       "      <td>2</td>\n",
       "      <td>54</td>\n",
       "      <td>B12</td>\n",
       "      <td>Diesel</td>\n",
       "      <td>65</td>\n",
       "      <td>R72</td>\n",
       "      <td>0.0</td>\n",
       "      <td>0.0</td>\n",
       "    </tr>\n",
       "  </tbody>\n",
       "</table>\n",
       "<p>678013 rows × 13 columns</p>\n",
       "</div>"
      ],
      "text/plain": [
       "         ClaimNb  Exposure Area  VehPower  VehAge  DrivAge  BonusMalus  \\\n",
       "IDpol                                                                    \n",
       "1              0   0.10000    D         5       0        5          50   \n",
       "3              0   0.77000    D         5       0        5          50   \n",
       "5              0   0.75000    B         6       1        5          50   \n",
       "10             0   0.09000    B         7       0        4          50   \n",
       "11             0   0.84000    B         7       0        4          50   \n",
       "...          ...       ...  ...       ...     ...      ...         ...   \n",
       "6114326        0   0.00274    E         4       0        5          50   \n",
       "6114327        0   0.00274    E         4       0        4          95   \n",
       "6114328        0   0.00274    D         6       1        4          50   \n",
       "6114329        0   0.00274    B         4       0        5          50   \n",
       "6114330        0   0.00274    B         7       1        2          54   \n",
       "\n",
       "        VehBrand   VehGas  Density Region  ClaimAmount  ClaimAmountCut  \n",
       "IDpol                                                                   \n",
       "1            B12  Regular     1217    R82          0.0             0.0  \n",
       "3            B12  Regular     1217    R82          0.0             0.0  \n",
       "5            B12   Diesel       54    R22          0.0             0.0  \n",
       "10           B12   Diesel       76    R72          0.0             0.0  \n",
       "11           B12   Diesel       76    R72          0.0             0.0  \n",
       "...          ...      ...      ...    ...          ...             ...  \n",
       "6114326      B12  Regular     3317    R93          0.0             0.0  \n",
       "6114327      B12  Regular     9850    R11          0.0             0.0  \n",
       "6114328      B12   Diesel     1323    R82          0.0             0.0  \n",
       "6114329      B12  Regular       95    R26          0.0             0.0  \n",
       "6114330      B12   Diesel       65    R72          0.0             0.0  \n",
       "\n",
       "[678013 rows x 13 columns]"
      ]
     },
     "metadata": {},
     "output_type": "display_data"
    }
   ],
   "source": [
    "df = load_transform()\n",
    "with pd.option_context('display.max_rows', 10):\n",
    "    display(df)"
   ]
  },
  {
   "cell_type": "markdown",
   "metadata": {},
   "source": [
    "## 2. Frequency GLM - Poisson distribution<a class=\"anchor\"></a>\n",
    "[back to Table of Contents](#Table-of-Contents)\n",
    "\n",
    "We start with the first part of our two part GLM - modeling the frequency of claims using a Poisson regression. Below, we give some background on why the Poisson family makes the most sense in this context.\n",
    "\n",
    "### 2.1 Why Poisson distributions?\n",
    "Poisson distributions are typically used to model the number of events occurring in a fixed period of time when the events occur independently at a constant rate. In our case, we can think of motor insurance claims as the events, and a unit of exposure (i.e. a year) as the fixed period of time.\n",
    "\n",
    "To get more technical:\n",
    "\n",
    "We define:\n",
    "\n",
    "- $z$: number of claims\n",
    "- $w$: exposure (time in years under risk)\n",
    "- $y = \\frac{z}{w}$: claim frequency per year\n",
    "- $X$: feature matrix\n",
    "\n",
    "\n",
    "The number of claims $z$ is an integer, $z \\in [0, 1, 2, 3, \\ldots]$. Theoretically, a policy could have an arbitrarily large number of claims&mdash;very unlikely but possible. The simplest distribution for this range is a Poisson distribution $z \\sim Poisson$. However, instead of $z$, we will model the frequency $y$. Nonetheless, this  is still (scaled) Poisson distributed with variance inverse proportional to $w$, cf. [wikipedia:Reproductive_EDM](https://en.wikipedia.org/wiki/Exponential_dispersion_model#Reproductive).\n",
    "\n",
    "To verify our assumptions, we start by plotting the observed frequencies and a fitted Poisson distribution (Poisson regression with intercept only)."
   ]
  },
  {
   "cell_type": "code",
   "execution_count": 3,
   "metadata": {},
   "outputs": [
    {
     "data": {
      "image/png": "[encoded data removed]",
      "text/plain": [
       "<Figure size 432x288 with 1 Axes>"
      ]
     },
     "metadata": {
      "needs_background": "light"
     },
     "output_type": "display_data"
    }
   ],
   "source": [
    "# plt.subplots(figsize=(10, 7))\n",
    "df_plot = (\n",
    "    df.loc[:, ['ClaimNb', 'Exposure']].groupby('ClaimNb').sum()\n",
    "    .assign(Frequency_Observed = lambda x: x.Exposure / df['Exposure'].sum())\n",
    ")\n",
    "mean = df['ClaimNb'].sum() / df['Exposure'].sum()\n",
    "\n",
    "x = range(5)\n",
    "plt.scatter(x, df_plot['Frequency_Observed'].values, color=\"blue\", alpha=0.85, s=60, label='observed')\n",
    "plt.scatter(x, scipy.stats.poisson.pmf(x, mean), color=\"orange\", alpha=0.55, s=60, label=\"poisson fit\")\n",
    "plt.xticks(x)\n",
    "plt.legend()\n",
    "plt.title(\"Frequency\");"
   ]
  },
  {
   "cell_type": "markdown",
   "metadata": {},
   "source": [
    "This is a strong confirmation for the use of a Poisson when fitting!\n",
    "\n",
    "\n",
    "### 2.2 Train and test frequency GLM\n",
    "\n",
    "Now, we start fitting our model. We use claims frequency = claim number/exposure as our outcome variable. We then divide the dataset into training set and test set with a 9:1 random split.\n",
    "\n",
    "Also, notice that we do not one hot encode our columns. Rather, we take advantage of `glum`'s integration with `tabmat`, which allows us to pass in categorical columns directly! `tabmat` will handle the encoding for us and even includes a handful of helpful matrix operation optimizations. We use the `Categorizer` from [dask_ml](https://ml.dask.org/modules/generated/dask_ml.preprocessing.Categorizer.html) to set our categorical columns as categorical dtypes and to ensure that the categories align in fitting and predicting."
   ]
  },
  {
   "cell_type": "code",
   "execution_count": 4,
   "metadata": {},
   "outputs": [],
   "source": [
    "z = df['ClaimNb'].values\n",
    "weight = df['Exposure'].values\n",
    "y = z / weight # claims frequency\n",
    "\n",
    "ss = ShuffleSplit(n_splits=1, test_size=0.1, random_state=42)\n",
    "train, test = next(ss.split(y))\n",
    "\n",
    "categoricals = [\"VehBrand\", \"VehGas\", \"Region\", \"Area\", \"DrivAge\", \"VehAge\", \"VehPower\"]\n",
    "predictors = categoricals + [\"BonusMalus\", \"Density\"]\n",
    "glm_categorizer = Categorizer(columns=categoricals)\n",
    "\n",
    "X_train_p = glm_categorizer.fit_transform(df[predictors].iloc[train])\n",
    "X_test_p = glm_categorizer.transform(df[predictors].iloc[test])\n",
    "y_train_p, y_test_p = y[train], y[test]\n",
    "w_train_p, w_test_p = weight[train], weight[test]\n",
    "z_train_p, z_test_p = z[train], z[test]"
   ]
  },
  {
   "cell_type": "markdown",
   "metadata": {},
   "source": [
    "Now, we define our GLM using the `GeneralizedLinearRegressor` class from `glum`.\n",
    "\n",
    "- `family='poisson'`: creates a Poisson regressor\n",
    "- `alpha_search=True`: tells the GLM to search along the regularization path for the best alpha\n",
    "- `l1_ratio = 1` tells the GLM to only use l1 penalty (not l2). `l1_ratio` is the elastic net mixing parameter. For ``l1_ratio = 0``, the penalty is an L2 penalty. ``For l1_ratio = 1``, it is an L1 penalty.  For ``0 < l1_ratio < 1``, the penalty is a combination of L1 and L2.\n",
    "\n",
    "See the `GeneralizedLinearRegressor` class [API documentation](https://glum.readthedocs.io/en/latest/api/modules.html) for more details.\n",
    "\n",
    "*Note*: `glum` also supported a cross validation model GeneralizedLinearRegressorCV. However, because cross validation requires fitting many models, it is much slower and we don’t demonstrate it in this tutorial."
   ]
  },
  {
   "cell_type": "code",
   "execution_count": 5,
   "metadata": {},
   "outputs": [
    {
     "data": {
      "text/html": [
       "<div>\n",
       "<style scoped>\n",
       "    .dataframe tbody tr th:only-of-type {\n",
       "        vertical-align: middle;\n",
       "    }\n",
       "\n",
       "    .dataframe tbody tr th {\n",
       "        vertical-align: top;\n",
       "    }\n",
       "\n",
       "    .dataframe thead th {\n",
       "        text-align: right;\n",
       "    }\n",
       "</style>\n",
       "<table border=\"1\" class=\"dataframe\">\n",
       "  <thead>\n",
       "    <tr style=\"text-align: right;\">\n",
       "      <th></th>\n",
       "      <th>intercept</th>\n",
       "      <th>VehBrand__B1</th>\n",
       "      <th>VehBrand__B10</th>\n",
       "      <th>VehBrand__B11</th>\n",
       "      <th>VehBrand__B12</th>\n",
       "      <th>VehBrand__B13</th>\n",
       "      <th>VehBrand__B14</th>\n",
       "      <th>VehBrand__B2</th>\n",
       "      <th>VehBrand__B3</th>\n",
       "      <th>VehBrand__B4</th>\n",
       "      <th>...</th>\n",
       "      <th>VehAge__1</th>\n",
       "      <th>VehAge__2</th>\n",
       "      <th>VehPower__4</th>\n",
       "      <th>VehPower__5</th>\n",
       "      <th>VehPower__6</th>\n",
       "      <th>VehPower__7</th>\n",
       "      <th>VehPower__8</th>\n",
       "      <th>VehPower__9</th>\n",
       "      <th>BonusMalus</th>\n",
       "      <th>Density</th>\n",
       "    </tr>\n",
       "  </thead>\n",
       "  <tbody>\n",
       "    <tr>\n",
       "      <th>coefficient</th>\n",
       "      <td>-4.269268</td>\n",
       "      <td>-0.003721</td>\n",
       "      <td>-0.010846</td>\n",
       "      <td>0.138466</td>\n",
       "      <td>-0.259298</td>\n",
       "      <td>0.0</td>\n",
       "      <td>-0.110712</td>\n",
       "      <td>-0.003604</td>\n",
       "      <td>0.044075</td>\n",
       "      <td>0.0</td>\n",
       "      <td>...</td>\n",
       "      <td>0.045494</td>\n",
       "      <td>-0.139428</td>\n",
       "      <td>-0.070054</td>\n",
       "      <td>-0.028142</td>\n",
       "      <td>0.0</td>\n",
       "      <td>0.0</td>\n",
       "      <td>0.016531</td>\n",
       "      <td>0.164711</td>\n",
       "      <td>0.026764</td>\n",
       "      <td>0.000004</td>\n",
       "    </tr>\n",
       "  </tbody>\n",
       "</table>\n",
       "<p>1 rows × 60 columns</p>\n",
       "</div>"
      ],
      "text/plain": [
       "             intercept  VehBrand__B1  VehBrand__B10  VehBrand__B11  \\\n",
       "coefficient  -4.269268     -0.003721      -0.010846       0.138466   \n",
       "\n",
       "             VehBrand__B12  VehBrand__B13  VehBrand__B14  VehBrand__B2  \\\n",
       "coefficient      -0.259298            0.0      -0.110712     -0.003604   \n",
       "\n",
       "             VehBrand__B3  VehBrand__B4  ...  VehAge__1  VehAge__2  \\\n",
       "coefficient      0.044075           0.0  ...   0.045494  -0.139428   \n",
       "\n",
       "             VehPower__4  VehPower__5  VehPower__6  VehPower__7  VehPower__8  \\\n",
       "coefficient    -0.070054    -0.028142          0.0          0.0     0.016531   \n",
       "\n",
       "             VehPower__9  BonusMalus   Density  \n",
       "coefficient     0.164711    0.026764  0.000004  \n",
       "\n",
       "[1 rows x 60 columns]"
      ]
     },
     "execution_count": 5,
     "metadata": {},
     "output_type": "execute_result"
    }
   ],
   "source": [
    "f_glm1 = GeneralizedLinearRegressor(family='poisson', alpha_search=True, l1_ratio=1, fit_intercept=True)\n",
    "\n",
    "f_glm1.fit(\n",
    "    X_train_p,\n",
    "    y_train_p,\n",
    "    sample_weight=w_train_p\n",
    ");\n",
    "\n",
    "pd.DataFrame({'coefficient': np.concatenate(([f_glm1.intercept_], f_glm1.coef_))},\n",
    "             index=['intercept'] + f_glm1.feature_names_).T"
   ]
  },
  {
   "attachments": {},
   "cell_type": "markdown",
   "metadata": {},
   "source": [
    "To measure our model's test and train performance, we use the deviance function for the Poisson family. We can get the total deviance function directly from `glum`'s distribution classes and divide it by the sum of our sample weight.\n",
    "\n",
    "*Note*: a Poisson distribution is equivalent to a Tweedie distribution with power = 1."
   ]
  },
  {
   "cell_type": "code",
   "execution_count": 6,
   "metadata": {},
   "outputs": [
    {
     "name": "stdout",
     "output_type": "stream",
     "text": [
      "training loss f_glm1: 0.45704947333555146\n",
      "test loss f_glm1: 0.45793061314157685\n"
     ]
    }
   ],
   "source": [
    "PoissonDist = TweedieDistribution(1)\n",
    "print('training loss f_glm1: {}'.format(\n",
    "    PoissonDist.deviance(y_train_p, f_glm1.predict(X_train_p), sample_weight=w_train_p)/np.sum(w_train_p)\n",
    "))\n",
    "\n",
    "print('test loss f_glm1: {}'.format(\n",
    "      PoissonDist.deviance(y_test_p, f_glm1.predict(X_test_p), sample_weight=w_test_p)/np.sum(w_test_p)))"
   ]
  },
  {
   "cell_type": "markdown",
   "metadata": {},
   "source": [
    "A GLM with canonical link function (Normal - identity, Poisson - log, Gamma - 1/x, Binomial - logit) with an intercept term has the so called **balance property**. Neglecting small deviations due to an imperfect fit, on the training sample the results satisfy the equality:\n",
    "$$\\sum_{i \\in training} w_i y_i = \\sum_{i \\in training} w_i \\hat{\\mu}_i$$\n",
    "As expected, this property holds in our real data:"
   ]
  },
  {
   "cell_type": "code",
   "execution_count": 7,
   "metadata": {},
   "outputs": [
    {
     "data": {
      "text/plain": [
       "(23785, 23785.198509368805)"
      ]
     },
     "execution_count": 7,
     "metadata": {},
     "output_type": "execute_result"
    }
   ],
   "source": [
    "# balance property of GLM with canonical link, like log-link for Poisson:\n",
    "z_train_p.sum(), (f_glm1.predict(X_train_p) * w_train_p).sum()"
   ]
  },
  {
   "cell_type": "markdown",
   "metadata": {},
   "source": [
    "## 3. Severity GLM - Gamma distribution<a class=\"anchor\"></a>\n",
    "[back to Table of Contents](#Table-of-Contents)\n",
    "\n",
    "Now, we fit a GLM for the severity with the same features as the frequency model.\n",
    "The severity $y$ is the average claim size.\n",
    "We define:\n",
    "\n",
    "- $z$: total claim amount, single claims cut at 100,000\n",
    "- $w$: number of claims (with positive claim amount!)\n",
    "- $y = \\frac{z}{w}$: severity\n",
    "\n",
    "### 3.1 Why Gamma distributions\n",
    "The severity $y$ is a positive, real number, $y \\in (0, \\infty)$. Theoretically, especially for liability claims, one could have arbitrary large numbers&mdash;very unlikely but possible. A very simple distribution for this range is an Exponential distribution, or its generalization, a Gamma distribution $y \\sim Gamma$. In the insurance industry, it is well known that the severity might be skewed by a few very large losses. It's common to model these tail losses separately so here we cut out claims larger than 100,000 to focus on modeling small and moderate claims."
   ]
  },
  {
   "cell_type": "code",
   "execution_count": 8,
   "metadata": {},
   "outputs": [
    {
     "data": {
      "image/png": "[encoded data removed]",
      "text/plain": [
       "<Figure size 432x288 with 1 Axes>"
      ]
     },
     "metadata": {
      "needs_background": "light"
     },
     "output_type": "display_data"
    }
   ],
   "source": [
    "df_plot = (\n",
    "    df.loc[:, ['ClaimAmountCut', 'ClaimNb']]\n",
    "    .query('ClaimNb > 0')\n",
    "    .assign(Severity_Observed = lambda x: x['ClaimAmountCut'] / df['ClaimNb'])\n",
    ")\n",
    "\n",
    "df_plot['Severity_Observed'].plot.hist(bins=400, density=True, label='Observed', )\n",
    "\n",
    "x = np.linspace(0, 1e5, num=400)\n",
    "plt.plot(x,\n",
    "         scipy.stats.gamma.pdf(x, *scipy.stats.gamma.fit(df_plot['Severity_Observed'], floc=0)),\n",
    "         'r-', label='fitted Gamma')\n",
    "plt.legend()\n",
    "plt.title(\"Severity\");\n",
    "plt.xlim(left=0, right = 1e4);\n",
    "#plt.xticks(x);"
   ]
  },
  {
   "cell_type": "code",
   "execution_count": 9,
   "metadata": {},
   "outputs": [
    {
     "data": {
      "image/png": "[encoded data removed]",
      "text/plain": [
       "<Figure size 432x288 with 1 Axes>"
      ]
     },
     "metadata": {
      "needs_background": "light"
     },
     "output_type": "display_data"
    },
    {
     "data": {
      "image/png": "[encoded data removed]",
      "text/plain": [
       "<Figure size 432x288 with 1 Axes>"
      ]
     },
     "metadata": {
      "needs_background": "light"
     },
     "output_type": "display_data"
    }
   ],
   "source": [
    "# Check mean-variance relationship for Gamma: Var[Y] = E[Y]^2 / Exposure\n",
    "# Estimate Var[Y] and E[Y]\n",
    "# Plot estimates Var[Y] vs E[Y]^s/Exposure\n",
    "# Note: We group by VehPower and BonusMalus in order to have different E[Y].\n",
    "\n",
    "def my_agg(x):\n",
    "    \"\"\"See https://stackoverflow.com/q/44635626\"\"\"\n",
    "    x_sev = x['Sev']\n",
    "    x_cnb = x['ClaimNb']\n",
    "    n = x_sev.shape[0]\n",
    "    names = {\n",
    "        'Sev_mean': np.average(x_sev, sample_weight=x_cnb),\n",
    "        'Sev_var': 1/(n-1) * np.sum((x_cnb/np.sum(x_cnb)) * (x_sev-np.average(x_sev, sample_weight=x_cnb))**2),\n",
    "        'ClaimNb_sum': x_cnb.sum()\n",
    "    }\n",
    "    return pd.Series(names, index=['Sev_mean', 'Sev_var', 'ClaimNb_sum'])\n",
    "\n",
    "for col in ['VehPower', 'BonusMalus']:\n",
    "    claims = df.groupby(col)['ClaimNb'].sum()\n",
    "    df_plot = (df.loc[df[col].isin(claims[claims >= 4].index), :]\n",
    "               .query('ClaimNb > 0')\n",
    "               .assign(Sev = lambda x: x['ClaimAmountCut']/x['ClaimNb'])\n",
    "               .groupby(col)\n",
    "               .apply(my_agg)\n",
    "              )\n",
    "\n",
    "    plt.plot(df_plot['Sev_mean'], df_plot['Sev_var'] * df_plot['ClaimNb_sum'], '.',\n",
    "             markersize=12, label='observed')\n",
    "\n",
    "    # fit: mean**p/claims\n",
    "    p = optimize.curve_fit(lambda x, p: np.power(x, p),\n",
    "                           df_plot['Sev_mean'].values,\n",
    "                           df_plot['Sev_var'] * df_plot['ClaimNb_sum'],\n",
    "                           p0 = [2])[0][0]\n",
    "    df_fit = pd.DataFrame({'x': df_plot['Sev_mean'],\n",
    "                           'y': np.power(df_plot['Sev_mean'], p)})\n",
    "    df_fit = df_fit.sort_values('x')\n",
    "\n",
    "    plt.plot(df_fit.x, df_fit.y,\n",
    "             'k--', label='fit: Mean**{}'.format(p))\n",
    "    plt.xlabel('Mean of Severity ')\n",
    "    plt.ylabel('Variance of Severity * ClaimNb')\n",
    "    plt.legend()\n",
    "    plt.title('Man-Variance of Claim Severity by {}'.format(col))\n",
    "    plt.show()"
   ]
  },
  {
   "cell_type": "markdown",
   "metadata": {},
   "source": [
    "Great! A Gamma distribution seems to be an empirically reasonable assumption for this dataset.\n",
    "\n",
    "\n",
    "*Hint*: If Y were normal distributed, one should see a horizontal line, because $Var[Y] = constant/Exposure$\n",
    "       and the fit should give $p \\approx 0$."
   ]
  },
  {
   "cell_type": "markdown",
   "metadata": {},
   "source": [
    "### 3.2 Severity GLM with train and test data\n",
    "We fit a GLM for the severity with the same features as the frequency model. We use the same categorizer as before.\n",
    "\n",
    "*Note*:\n",
    "\n",
    "- We filter out ClaimAmount == 0. The severity problem is to model claim amounts conditional on a claim having already been submitted. It seems reasonable to treat a claim of zero as equivalent to no claim at all. Additionally, zero is not included in the open interval $(0, \\infty)$ support of the Gamma distribution.\n",
    "- We use ClaimNb as sample weights.\n",
    "- We use the same split in train and test data such that we can predict the final claim amount on the test set as the product of our Poisson claim number and Gamma claim severity GLMs."
   ]
  },
  {
   "cell_type": "code",
   "execution_count": 10,
   "metadata": {},
   "outputs": [],
   "source": [
    "idx = df['ClaimAmountCut'].values > 0\n",
    "\n",
    "z = df['ClaimAmountCut'].values\n",
    "weight = df['ClaimNb'].values\n",
    "# y = claims severity\n",
    "y = np.zeros_like(z)  # zeros will never be used\n",
    "y[idx] = z[idx] / weight[idx]\n",
    "\n",
    "# we also need to represent train and test as boolean indices\n",
    "itrain = np.zeros(y.shape, dtype='bool')\n",
    "itest = np.zeros(y.shape, dtype='bool')\n",
    "itrain[train] = True\n",
    "itest[test] = True\n",
    "# simplify life\n",
    "itrain = idx & itrain\n",
    "itest = idx & itest\n",
    "\n",
    "X_train_g = glm_categorizer.fit_transform(df[predictors].iloc[itrain])\n",
    "X_test_g = glm_categorizer.transform(df[predictors].iloc[itest])\n",
    "y_train_g, y_test_g = y[itrain], y[itest]\n",
    "w_train_g, w_test_g = weight[itrain], weight[itest]\n",
    "z_train_g, z_test_g = z[itrain], z[itest]"
   ]
  },
  {
   "cell_type": "markdown",
   "metadata": {},
   "source": [
    "We fit our model with the same parameters before, but of course, this time we use `family=gamma`."
   ]
  },
  {
   "cell_type": "code",
   "execution_count": 11,
   "metadata": {
    "scrolled": true
   },
   "outputs": [
    {
     "data": {
      "text/html": [
       "<div>\n",
       "<style scoped>\n",
       "    .dataframe tbody tr th:only-of-type {\n",
       "        vertical-align: middle;\n",
       "    }\n",
       "\n",
       "    .dataframe tbody tr th {\n",
       "        vertical-align: top;\n",
       "    }\n",
       "\n",
       "    .dataframe thead th {\n",
       "        text-align: right;\n",
       "    }\n",
       "</style>\n",
       "<table border=\"1\" class=\"dataframe\">\n",
       "  <thead>\n",
       "    <tr style=\"text-align: right;\">\n",
       "      <th></th>\n",
       "      <th>intercept</th>\n",
       "      <th>VehBrand__B1</th>\n",
       "      <th>VehBrand__B10</th>\n",
       "      <th>VehBrand__B11</th>\n",
       "      <th>VehBrand__B12</th>\n",
       "      <th>VehBrand__B13</th>\n",
       "      <th>VehBrand__B14</th>\n",
       "      <th>VehBrand__B2</th>\n",
       "      <th>VehBrand__B3</th>\n",
       "      <th>VehBrand__B4</th>\n",
       "      <th>...</th>\n",
       "      <th>VehAge__1</th>\n",
       "      <th>VehAge__2</th>\n",
       "      <th>VehPower__4</th>\n",
       "      <th>VehPower__5</th>\n",
       "      <th>VehPower__6</th>\n",
       "      <th>VehPower__7</th>\n",
       "      <th>VehPower__8</th>\n",
       "      <th>VehPower__9</th>\n",
       "      <th>BonusMalus</th>\n",
       "      <th>Density</th>\n",
       "    </tr>\n",
       "  </thead>\n",
       "  <tbody>\n",
       "    <tr>\n",
       "      <th>coefficient</th>\n",
       "      <td>7.3389</td>\n",
       "      <td>-0.034591</td>\n",
       "      <td>0.040528</td>\n",
       "      <td>0.13116</td>\n",
       "      <td>0.035838</td>\n",
       "      <td>0.100753</td>\n",
       "      <td>-0.073995</td>\n",
       "      <td>-0.033196</td>\n",
       "      <td>0.0</td>\n",
       "      <td>0.049078</td>\n",
       "      <td>...</td>\n",
       "      <td>0.0</td>\n",
       "      <td>-0.024827</td>\n",
       "      <td>-0.009537</td>\n",
       "      <td>-0.089972</td>\n",
       "      <td>0.071376</td>\n",
       "      <td>0.009361</td>\n",
       "      <td>-0.042491</td>\n",
       "      <td>0.051636</td>\n",
       "      <td>0.002365</td>\n",
       "      <td>-0.000001</td>\n",
       "    </tr>\n",
       "  </tbody>\n",
       "</table>\n",
       "<p>1 rows × 60 columns</p>\n",
       "</div>"
      ],
      "text/plain": [
       "             intercept  VehBrand__B1  VehBrand__B10  VehBrand__B11  \\\n",
       "coefficient     7.3389     -0.034591       0.040528        0.13116   \n",
       "\n",
       "             VehBrand__B12  VehBrand__B13  VehBrand__B14  VehBrand__B2  \\\n",
       "coefficient       0.035838       0.100753      -0.073995     -0.033196   \n",
       "\n",
       "             VehBrand__B3  VehBrand__B4  ...  VehAge__1  VehAge__2  \\\n",
       "coefficient           0.0      0.049078  ...        0.0  -0.024827   \n",
       "\n",
       "             VehPower__4  VehPower__5  VehPower__6  VehPower__7  VehPower__8  \\\n",
       "coefficient    -0.009537    -0.089972     0.071376     0.009361    -0.042491   \n",
       "\n",
       "             VehPower__9  BonusMalus   Density  \n",
       "coefficient     0.051636    0.002365 -0.000001  \n",
       "\n",
       "[1 rows x 60 columns]"
      ]
     },
     "execution_count": 11,
     "metadata": {},
     "output_type": "execute_result"
    }
   ],
   "source": [
    "s_glm1 = GeneralizedLinearRegressor(family='gamma', alpha_search=True, l1_ratio=1, fit_intercept=True)\n",
    "s_glm1.fit(X_train_g, y_train_g, sample_weight=weight[itrain])\n",
    "\n",
    "pd.DataFrame({'coefficient': np.concatenate(([s_glm1.intercept_], s_glm1.coef_))},\n",
    "             index=['intercept'] + s_glm1.feature_names_).T"
   ]
  },
  {
   "cell_type": "markdown",
   "metadata": {},
   "source": [
    "Again, we measure performance with the deviance of the distribution. We also compare against the simple arithmetic mean and include the mean absolute error to help understand the actual scale of our results.\n",
    "\n",
    "*Note*: a Gamma distribution is equivalent to a Tweedie distribution with power = 2."
   ]
  },
  {
   "cell_type": "code",
   "execution_count": 26,
   "metadata": {},
   "outputs": [
    {
     "name": "stdout",
     "output_type": "stream",
     "text": [
      "training loss (deviance) s_glm1:     1.29010461534461\n",
      "training mean absolute error s_glm1: 1566.1785138646032\n",
      "\n",
      "testing loss s_glm1 (deviance):      1.2975718597070154\n",
      "testing mean absolute error s_glm1:  1504.4458958597086\n",
      "\n",
      "testing loss Mean (deviance):        1.3115309309577132\n",
      "testing mean absolute error Mean:    1689.205530922944\n"
     ]
    }
   ],
   "source": [
    "GammaDist = TweedieDistribution(2)\n",
    "print('training loss (deviance) s_glm1:     {}'.format(\n",
    "    GammaDist.deviance(\n",
    "        y_train_g, s_glm1.predict(X_train_g), sample_weight=w_train_g\n",
    "    )/np.sum(w_train_g)\n",
    "))\n",
    "print('training mean absolute error s_glm1: {}'.format(\n",
    "    mean_absolute_error(y_train_g, s_glm1.predict(X_train_g))\n",
    "))\n",
    "\n",
    "print('\\ntesting loss s_glm1 (deviance):      {}'.format(\n",
    "    GammaDist.deviance(\n",
    "        y_test_g, s_glm1.predict(X_test_g), sample_weight=w_test_g\n",
    "    )/np.sum(w_test_g)\n",
    "))\n",
    "print('testing mean absolute error s_glm1:  {}'.format(\n",
    "    mean_absolute_error(y_test_g, s_glm1.predict(X_test_g))\n",
    "))\n",
    "\n",
    "print('\\ntesting loss Mean (deviance):        {}'.format(\n",
    "    GammaDist.deviance(\n",
    "        y_test_g, np.average(z_train_g, sample_weight=w_train_g)*np.ones_like(z_test_g), sample_weight=w_test_g\n",
    "    )/np.sum(w_test_g)\n",
    "))\n",
    "print('testing mean absolute error Mean:    {}'.format(\n",
    "    mean_absolute_error(y_test_g, np.average(z_train_g, sample_weight=w_train_g)*np.ones_like(z_test_g))\n",
    "))"
   ]
  },
  {
   "cell_type": "markdown",
   "metadata": {},
   "source": [
    "Even though the deviance improvement seems small, the improvement in mean absolute error is not! (In the insurance world, this will make a significant difference when aggregated over all claims)."
   ]
  },
  {
   "cell_type": "markdown",
   "metadata": {},
   "source": [
    "### 3.3 Combined frequency and severity results\n",
    "\n",
    "We put together the prediction of frequency and severity to get the predictions of the total claim amount per policy."
   ]
  },
  {
   "cell_type": "code",
   "execution_count": 13,
   "metadata": {},
   "outputs": [
    {
     "name": "stdout",
     "output_type": "stream",
     "text": [
      "Total claim amount on train set, observed = 44594644.68, predicted = 44549152.42247057\n",
      "Total claim amount on test set, observed = 4707551.37, predicted = 4946960.354743531\n"
     ]
    }
   ],
   "source": [
    "#Put together freq * sev together\n",
    "print(\"Total claim amount on train set, observed = {}, predicted = {}\".\n",
    "     format(df['ClaimAmountCut'].values[train].sum(),\n",
    "            np.sum(df['Exposure'].values[train] * f_glm1.predict(X_train_p) * s_glm1.predict(X_train_p)))\n",
    "     )\n",
    "\n",
    "print(\"Total claim amount on test set, observed = {}, predicted = {}\".\n",
    "     format(df['ClaimAmountCut'].values[test].sum(),\n",
    "            np.sum(df['Exposure'].values[test] * f_glm1.predict(X_test_p) * s_glm1.predict(X_test_p)))\n",
    "     )"
   ]
  },
  {
   "cell_type": "markdown",
   "metadata": {},
   "source": [
    "## 4. Combined GLM - Tweedie distribution<a class=\"anchor\"></a>\n",
    "[back to Table of Contents](#Table-of-Contents)\n",
    "\n",
    "Finally, to demonstrate an alternate approach to the combined frequency severity model, we show how we can model pure premium directly using a Tweedie regressor. Any Tweedie distribution with power $p\\in(1,2)$ is known as [compound Poisson Gamma distribution](https://en.wikipedia.org/wiki/Compound_Poisson_distribution#Compound_Poisson_Gamma_distribution)"
   ]
  },
  {
   "cell_type": "code",
   "execution_count": 14,
   "metadata": {},
   "outputs": [],
   "source": [
    "weight = df['Exposure'].values\n",
    "df[\"PurePremium\"] = df[\"ClaimAmountCut\"] / df[\"Exposure\"]\n",
    "y = df[\"PurePremium\"]\n",
    "\n",
    "X_train_t = glm_categorizer.fit_transform(df[predictors].iloc[train])\n",
    "X_test_t = glm_categorizer.transform(df[predictors].iloc[test])\n",
    "y_train_t, y_test_t = y.iloc[train], y.iloc[test]\n",
    "w_train_t, w_test_t = weight[train], weight[test]"
   ]
  },
  {
   "cell_type": "markdown",
   "metadata": {},
   "source": [
    "For now, we just arbitrarily select 1.5 as the power parameter for our Tweedie model. However for a better fit we could include the power parameter in the optimization/fitting process, possibly via a simple grid search.\n",
    "\n",
    "*Note*: notice how we pass a `TweedieDistribution` object in directly for the family parameter. While `glum` supports strings for common families, it is also possible to pass in a glum distribution directly."
   ]
  },
  {
   "cell_type": "code",
   "execution_count": 15,
   "metadata": {},
   "outputs": [
    {
     "data": {
      "text/html": [
       "<div>\n",
       "<style scoped>\n",
       "    .dataframe tbody tr th:only-of-type {\n",
       "        vertical-align: middle;\n",
       "    }\n",
       "\n",
       "    .dataframe tbody tr th {\n",
       "        vertical-align: top;\n",
       "    }\n",
       "\n",
       "    .dataframe thead th {\n",
       "        text-align: right;\n",
       "    }\n",
       "</style>\n",
       "<table border=\"1\" class=\"dataframe\">\n",
       "  <thead>\n",
       "    <tr style=\"text-align: right;\">\n",
       "      <th></th>\n",
       "      <th>intercept</th>\n",
       "      <th>VehBrand__B1</th>\n",
       "      <th>VehBrand__B10</th>\n",
       "      <th>VehBrand__B11</th>\n",
       "      <th>VehBrand__B12</th>\n",
       "      <th>VehBrand__B13</th>\n",
       "      <th>VehBrand__B14</th>\n",
       "      <th>VehBrand__B2</th>\n",
       "      <th>VehBrand__B3</th>\n",
       "      <th>VehBrand__B4</th>\n",
       "      <th>...</th>\n",
       "      <th>VehAge__1</th>\n",
       "      <th>VehAge__2</th>\n",
       "      <th>VehPower__4</th>\n",
       "      <th>VehPower__5</th>\n",
       "      <th>VehPower__6</th>\n",
       "      <th>VehPower__7</th>\n",
       "      <th>VehPower__8</th>\n",
       "      <th>VehPower__9</th>\n",
       "      <th>BonusMalus</th>\n",
       "      <th>Density</th>\n",
       "    </tr>\n",
       "  </thead>\n",
       "  <tbody>\n",
       "    <tr>\n",
       "      <th>coefficient</th>\n",
       "      <td>2.88667</td>\n",
       "      <td>-0.064157</td>\n",
       "      <td>0.0</td>\n",
       "      <td>0.231868</td>\n",
       "      <td>-0.211061</td>\n",
       "      <td>0.054979</td>\n",
       "      <td>-0.270346</td>\n",
       "      <td>-0.071453</td>\n",
       "      <td>0.00291</td>\n",
       "      <td>0.059324</td>\n",
       "      <td>...</td>\n",
       "      <td>0.008117</td>\n",
       "      <td>-0.229906</td>\n",
       "      <td>-0.111796</td>\n",
       "      <td>-0.123388</td>\n",
       "      <td>0.060757</td>\n",
       "      <td>0.005179</td>\n",
       "      <td>-0.021832</td>\n",
       "      <td>0.208158</td>\n",
       "      <td>0.032508</td>\n",
       "      <td>0.000002</td>\n",
       "    </tr>\n",
       "  </tbody>\n",
       "</table>\n",
       "<p>1 rows × 60 columns</p>\n",
       "</div>"
      ],
      "text/plain": [
       "             intercept  VehBrand__B1  VehBrand__B10  VehBrand__B11  \\\n",
       "coefficient    2.88667     -0.064157            0.0       0.231868   \n",
       "\n",
       "             VehBrand__B12  VehBrand__B13  VehBrand__B14  VehBrand__B2  \\\n",
       "coefficient      -0.211061       0.054979      -0.270346     -0.071453   \n",
       "\n",
       "             VehBrand__B3  VehBrand__B4  ...  VehAge__1  VehAge__2  \\\n",
       "coefficient       0.00291      0.059324  ...   0.008117  -0.229906   \n",
       "\n",
       "             VehPower__4  VehPower__5  VehPower__6  VehPower__7  VehPower__8  \\\n",
       "coefficient    -0.111796    -0.123388     0.060757     0.005179    -0.021832   \n",
       "\n",
       "             VehPower__9  BonusMalus   Density  \n",
       "coefficient     0.208158    0.032508  0.000002  \n",
       "\n",
       "[1 rows x 60 columns]"
      ]
     },
     "execution_count": 15,
     "metadata": {},
     "output_type": "execute_result"
    }
   ],
   "source": [
    "TweedieDist = TweedieDistribution(1.5)\n",
    "t_glm1 = GeneralizedLinearRegressor(family=TweedieDist, alpha_search=True, l1_ratio=1, fit_intercept=True)\n",
    "t_glm1.fit(X_train_t, y_train_t, sample_weight=w_train_t)\n",
    "\n",
    "\n",
    "pd.DataFrame({'coefficient': np.concatenate(([t_glm1.intercept_], t_glm1.coef_))},\n",
    "             index=['intercept'] + t_glm1.feature_names_).T"
   ]
  },
  {
   "cell_type": "markdown",
   "metadata": {},
   "source": [
    "Again, we use the distribution's deviance to measure model performance"
   ]
  },
  {
   "cell_type": "code",
   "execution_count": 16,
   "metadata": {},
   "outputs": [
    {
     "name": "stdout",
     "output_type": "stream",
     "text": [
      "training loss s_glm1: 73.91371104577475\n",
      "testing loss s_glm1:  72.35318912371723\n"
     ]
    }
   ],
   "source": [
    "print('training loss s_glm1: {}'.format(\n",
    "    TweedieDist.deviance(y_train_t, t_glm1.predict(X_train_t), sample_weight=w_train_t)/np.sum(w_train_t)))\n",
    "\n",
    "print('testing loss s_glm1:  {}'.format(\n",
    "    TweedieDist.deviance(y_test_t, t_glm1.predict(X_test_t), sample_weight=w_test_t)/np.sum(w_test_t)))"
   ]
  },
  {
   "cell_type": "markdown",
   "metadata": {},
   "source": [
    "Finally, we again show the total predicted vs. true claim amount on the training and test set"
   ]
  },
  {
   "cell_type": "code",
   "execution_count": 17,
   "metadata": {},
   "outputs": [
    {
     "name": "stdout",
     "output_type": "stream",
     "text": [
      "Total claim amount on train set, observed = 44594644.68, predicted = 45027861.66007367\n",
      "Total claim amount on test set, observed = 4707551.37, predicted = 4999381.03386664\n"
     ]
    }
   ],
   "source": [
    "#Put together freq * sev together\n",
    "print(\"Total claim amount on train set, observed = {}, predicted = {}\".\n",
    "     format(df['ClaimAmountCut'].values[train].sum(),\n",
    "            np.sum(df['Exposure'].values[train] * t_glm1.predict(X_train_p)))\n",
    "     )\n",
    "\n",
    "print(\"Total claim amount on test set, observed = {}, predicted = {}\".\n",
    "     format(df['ClaimAmountCut'].values[test].sum(),\n",
    "            np.sum(df['Exposure'].values[test] * t_glm1.predict(X_test_p)))\n",
    "     )"
   ]
  },
  {
   "cell_type": "markdown",
   "metadata": {},
   "source": [
    "In terms of the combined proximity to the true total claim amounts, the frequency severity model performed a bit better than Tweedie model. However, both approaches ultimately prove to be effective."
   ]
  }
 ],
 "metadata": {
  "jupytext": {
   "formats": "ipynb,md"
  },
  "kernelspec": {
   "display_name": "Python 3",
   "language": "python",
   "name": "python3"
  },
  "language_info": {
   "codemirror_mode": {
    "name": "ipython",
    "version": 3
   },
   "file_extension": ".py",
   "mimetype": "text/x-python",
   "name": "python",
   "nbconvert_exporter": "python",
   "pygments_lexer": "ipython3",
   "version": "3.8.10"
  }
 },
 "nbformat": 4,
 "nbformat_minor": 4
}
