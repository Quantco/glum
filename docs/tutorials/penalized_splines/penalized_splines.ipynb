{
 "cells": [
  {
   "cell_type": "markdown",
   "metadata": {},
   "source": [
    "# Fitting Penalized Splines in glum\n",
    "\n",
    "See the [post on Matt Mills' website](http://statmills.com/2023-11-20-Penalized_Splines_Using_glum/)."
   ]
  }
 ],
 "metadata": {
  "language_info": {
   "name": "python"
  }
 },
 "nbformat": 4,
 "nbformat_minor": 2
}
